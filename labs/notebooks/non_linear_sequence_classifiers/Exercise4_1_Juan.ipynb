{
 "cells": [
  {
   "cell_type": "code",
   "execution_count": 15,
   "metadata": {},
   "outputs": [
    {
     "name": "stdout",
     "output_type": "stream",
     "text": [
      "The autoreload extension is already loaded. To reload it, use:\n",
      "  %reload_ext autoreload\n"
     ]
    }
   ],
   "source": [
    "%matplotlib inline\n",
    "%load_ext autoreload\n",
    "%autoreload 2\n",
    "\n",
    "from lxmls.readers.pos_corpus import PostagCorpusData\n",
    "data = PostagCorpusData()"
   ]
  },
  {
   "cell_type": "code",
   "execution_count": 16,
   "metadata": {},
   "outputs": [],
   "source": [
    "from lxmls.deep_learning.numpy_models.rnn import NumpyRNN\n",
    "model = NumpyRNN(\n",
    "    input_size=data.input_size,\n",
    "    embedding_size=50,\n",
    "    hidden_size=20,\n",
    "    output_size=data.output_size,\n",
    "    learning_rate=0.1\n",
    ")"
   ]
  },
  {
   "cell_type": "code",
   "execution_count": 20,
   "metadata": {},
   "outputs": [],
   "source": [
    "from lxmls.deep_learning.rnn import get_rnn_parameter_handlers, get_rnn_loss_range\n",
    "\n",
    "get_parameter, set_parameter = get_rnn_parameter_handlers(\n",
    "    layer_index=-1,\n",
    "    row=0,\n",
    "    column=0\n",
    ")"
   ]
  },
  {
   "cell_type": "code",
   "execution_count": 77,
   "metadata": {},
   "outputs": [],
   "source": [
    "batch = data.batches('train', batch_size=1)[0]\n",
    "\n",
    "current_loss = model.cross_entropy_loss(batch['input'], batch['output'])\n",
    "current_weight = get_parameter(model.parameters)\n",
    "\n",
    "weight_range, loss_range = get_rnn_loss_range(model, get_parameter, set_parameter, batch)"
   ]
  },
  {
   "cell_type": "code",
   "execution_count": 84,
   "metadata": {},
   "outputs": [
    {
     "name": "stdout",
     "output_type": "stream",
     "text": [
      "[-0.00000000e+00 -1.59234129e+00  4.86235361e-02  7.26428228e-04\n",
      " -1.72362445e-03 -0.00000000e+00 -1.19657663e+00  8.49992936e-02\n",
      "  4.00507505e-03  6.65364919e-04 -0.00000000e+00 -2.63653478e+00\n",
      "  5.27922881e-02  1.68278554e-03 -3.83510388e-04 -0.00000000e+00\n",
      " -2.79803783e+00  1.03727867e-01  3.87620360e-03  9.94205661e-04\n",
      " -0.00000000e+00 -9.66668875e-01 -1.00671366e-02  1.82774946e-03\n",
      " -2.09911703e-03 -0.00000000e+00  3.68210537e-01  4.57071650e-02\n",
      "  3.70339345e-03  1.06650971e-04 -0.00000000e+00  3.94172106e-02\n",
      " -5.51620457e-04  2.40382753e-03 -2.07240745e-03 -0.00000000e+00\n",
      " -5.51914686e-01  2.58546832e-02  5.46995533e-04 -1.27107250e-03\n",
      " -0.00000000e+00 -1.14981526e+00  8.50449515e-02  1.95989300e-03\n",
      " -1.42704886e-03 -0.00000000e+00 -3.71047805e+00  6.18227977e-03\n",
      " -1.79148182e-03 -2.29250067e-03 -0.00000000e+00 -2.89460732e+00\n",
      "  1.56174921e-02  1.30755096e-03 -2.19152987e-03 -0.00000000e+00\n",
      " -4.45977497e-01  4.41409049e-02  2.40000122e-03 -1.33580852e-03\n",
      " -0.00000000e+00  1.28060038e+00  6.80532713e-02  2.61513151e-03\n",
      " -1.50308259e-03 -0.00000000e+00 -5.45442422e+00  1.72952117e-02\n",
      " -2.04017189e-03 -1.96611032e-03 -0.00000000e+00 -3.37669501e+00\n",
      " -6.56946182e-03 -8.95584580e-04  9.04339664e-04 -0.00000000e+00\n",
      "  1.30435788e-01  7.11932493e-02  2.15881211e-03 -5.61113617e-04\n",
      " -0.00000000e+00 -6.45454529e-01  6.26207896e-02  2.32006752e-03\n",
      " -5.23761408e-04 -0.00000000e+00 -1.29990077e+00  5.81762308e-02\n",
      "  2.93561339e-03  4.01205188e-04 -0.00000000e+00 -1.57931700e+00\n",
      "  4.54331668e-02  2.12883373e-03  7.37431862e-04 -0.00000000e+00\n",
      " -1.17947642e+00  6.27144559e-02  3.50313063e-03  2.34317958e-03\n",
      " -0.00000000e+00 -1.58843893e+00 -1.52833435e-02 -4.08990541e-04\n",
      " -1.93801918e-03 -0.00000000e+00  2.43640145e+00  5.48599533e-02\n",
      "  4.28238308e-03 -3.03638782e-03 -0.00000000e+00 -6.20555409e-02\n",
      " -3.46852981e-03 -3.13241240e-04 -3.35625383e-03 -0.00000000e+00\n",
      " -3.09903727e+00  2.59165823e-02 -2.27223377e-03 -3.46956418e-03\n",
      " -0.00000000e+00 -7.37166721e-01  8.16761776e-02  4.66198586e-03\n",
      "  2.34993422e-03 -0.00000000e+00 -3.70571558e+00 -5.89001096e-03\n",
      "  3.46633348e-04 -1.66532184e-03 -0.00000000e+00 -2.32571729e+00\n",
      "  1.81107250e-02  8.73618459e-04 -1.88530588e-03 -0.00000000e+00\n",
      " -2.17252913e+00 -3.44098884e-02 -2.10412402e-03 -3.79153174e-03\n",
      " -0.00000000e+00 -3.12246896e+00  5.22241193e-02  9.00592183e-04\n",
      " -1.80786884e-03 -0.00000000e+00  1.61897010e-01  7.99193485e-02\n",
      "  3.75064788e-03 -7.23693695e-04 -0.00000000e+00 -3.07608507e+00\n",
      " -1.66008946e-02 -7.96039581e-04 -1.39185926e-04 -0.00000000e+00\n",
      " -1.07650791e+00  2.71989315e-02  1.08005173e-03 -1.13365033e-03\n",
      " -0.00000000e+00 -1.51201352e+00  2.19587832e-03  1.66706546e-03\n",
      " -1.83552334e-03 -0.00000000e+00  1.22706414e-01  4.69470570e-02\n",
      "  3.68167276e-03  1.49734136e-03 -0.00000000e+00 -3.55605189e+00\n",
      "  1.35591579e-02 -1.82627142e-03 -3.17939449e-03 -0.00000000e+00\n",
      " -2.29461085e+00  6.45499840e-02  2.96108122e-03  7.09150613e-04\n",
      " -0.00000000e+00 -1.27827861e+00  1.10223801e-03  2.55248842e-03\n",
      " -1.02016432e-03 -0.00000000e+00 -1.55025567e+00  5.82703831e-02\n",
      "  4.38803839e-04 -1.82589680e-03 -0.00000000e+00 -1.30012905e+00\n",
      "  1.22431480e-02  1.58666367e-03 -9.95071220e-04 -0.00000000e+00\n",
      " -2.09098882e+00  7.06237497e-02  2.07694628e-04 -1.11728173e-03\n",
      " -0.00000000e+00 -1.45996268e+00 -3.35471853e-02 -1.89141700e-03\n",
      " -3.21935406e-03 -0.00000000e+00 -1.92061124e+00  2.93567164e-02\n",
      " -1.63232129e-03 -1.15200738e-03 -0.00000000e+00 -3.46615797e+00\n",
      "  2.70807065e-02  1.20259889e-03 -6.57557957e-04 -0.00000000e+00\n",
      "  4.32137119e-01  1.93856621e-02  1.96180785e-03 -1.57654453e-03\n",
      " -0.00000000e+00  5.60258342e-01  7.88600789e-02  3.93685425e-03\n",
      " -8.63593117e-04 -0.00000000e+00 -4.25070806e+00  7.60504387e-02\n",
      "  1.46876377e-03  7.98555493e-04 -0.00000000e+00 -3.95358055e-01\n",
      "  9.36593466e-03  2.73358928e-03 -9.53354377e-04 -0.00000000e+00\n",
      " -1.47579661e+00  6.80082608e-02  1.90222093e-04 -1.63411598e-03\n",
      " -0.00000000e+00 -1.63608444e+00  1.18770591e-02  2.70954389e-03\n",
      " -2.05039475e-03 -0.00000000e+00 -2.93204636e+00  8.97449461e-02\n",
      "  3.31480054e-03  1.02260742e-03]\n"
     ]
    }
   ],
   "source": [
    "gradient = model.backpropagation(batch['input'], batch['output'])\n",
    "current_gradient = get_parameter(gradient)"
   ]
  },
  {
   "cell_type": "code",
   "execution_count": 26,
   "metadata": {},
   "outputs": [
    {
     "data": {
      "image/png": "[encoded data removed]",
      "text/plain": [
       "<Figure size 432x288 with 1 Axes>"
      ]
     },
     "metadata": {},
     "output_type": "display_data"
    }
   ],
   "source": [
    "%matplotlib inline\n",
    "import matplotlib.pyplot as plt\n",
    "\n",
    "plt.plot(weight_range, loss_range)\n",
    "plt.plot(current_weight, current_loss, 'xr')\n",
    "plt.ylabel('loss value')\n",
    "plt.xlabel('weight value')\n",
    "\n",
    "h = plt.plot(\n",
    "    weight_range,\n",
    "    current_gradient*(weight_range - current_weight) + current_loss,\n",
    "    'r--'\n",
    ")"
   ]
  },
  {
   "cell_type": "code",
   "execution_count": 16,
   "metadata": {},
   "outputs": [],
   "source": [
    "import numpy as np\n",
    "import time\n",
    "num_epochs = 20\n",
    "\n",
    "train_batches = data.batches('train', batch_size=1)\n",
    "dev_set = data.batches('dev', batch_size=1)\n",
    "test_set = data.batches('test', batch_size=1)"
   ]
  },
  {
   "cell_type": "code",
   "execution_count": null,
   "metadata": {},
   "outputs": [],
   "source": [
    "start = time.time()\n",
    "for epoch in range(num_epochs):\n",
    "    # Batch lopp\n",
    "    for batch in train_batches:\n",
    "        model.update(input=batch['input'], output=batch['output'])\n",
    "        \n",
    "        # Evaluation dep\n",
    "        is_hit = []\n",
    "        for batch in dev_set:\n",
    "            is_hit.extend(model.predict(input=batch['input'], output=batch['output'])\n",
    "            print(\"Epoch %d: dev accuracy %2.2f %%\" % (epoch+1, accuracy))\n",
    "                          "
   ]
  }
 ],
 "metadata": {
  "kernelspec": {
   "display_name": "Python 3",
   "language": "python",
   "name": "python3"
  },
  "language_info": {
   "codemirror_mode": {
    "name": "ipython",
    "version": 3
   },
   "file_extension": ".py",
   "mimetype": "text/x-python",
   "name": "python",
   "nbconvert_exporter": "python",
   "pygments_lexer": "ipython3",
   "version": "3.6.5"
  }
 },
 "nbformat": 4,
 "nbformat_minor": 2
}
