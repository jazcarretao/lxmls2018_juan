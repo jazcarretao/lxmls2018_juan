{
 "cells": [
  {
   "cell_type": "markdown",
   "metadata": {},
   "source": [
    "### Amazon Sentiment Data"
   ]
  },
  {
   "cell_type": "code",
   "execution_count": 2,
   "metadata": {},
   "outputs": [],
   "source": [
    "import lxmls.readers.sentiment_reader as srs\n",
    "from lxmls.deep_learning.utils import AmazonData\n",
    "import torch\n",
    "corpus = srs.SentimentCorpus(\"books\")\n",
    "data = AmazonData(corpus=corpus)\n",
    "\n",
    "if (torch.cuda.is_available):\n",
    "    device_type = \"cuda\"\n",
    "    device = torch.device(device_type)"
   ]
  },
  {
   "cell_type": "markdown",
   "metadata": {},
   "source": [
    "### Train Log Linear in Pytorch\n",
    "In order to learn the differences between a numpy and a Pytorch implementation, explore the reimplementation of Ex. 3.1 in Pytorch. Compare the content of each of the functions, in particular the `forward()` and `update()` methods. The comments indicated as IMPORTANT will highlight common sources of errors."
   ]
  },
  {
   "cell_type": "code",
   "execution_count": 4,
   "metadata": {},
   "outputs": [],
   "source": [
    "from lxmls.deep_learning.utils import Model, glorot_weight_init\n",
    "import numpy as np\n",
    "import torch\n",
    "from torch.autograd import Variable\n",
    "\n",
    "class PytorchLogLinear(Model):\n",
    "    \n",
    "    def __init__(self, **config):\n",
    "        # Initialize parameters\n",
    "        weight_shape = (config['input_size'], config['num_classes'])\n",
    "        # after Xavier Glorot et al\n",
    "        self.weight = glorot_weight_init(weight_shape, 'softmax')\n",
    "        self.bias = np.zeros((1, config['num_classes']))\n",
    "        self.learning_rate = config['learning_rate']\n",
    "        \n",
    "        # IMPORTANT: Cast to pytorch format\n",
    "        self.weight = Variable(torch.from_numpy(self.weight).float(), requires_grad=True)\n",
    "        self.bias = Variable(torch.from_numpy(self.bias).float(), requires_grad=True)\n",
    "        \n",
    "        # Instantiate softmax and negative logkelihood in log domain\n",
    "        self.logsoftmax = torch.nn.LogSoftmax(dim=1)\n",
    "        self.loss = torch.nn.NLLLoss()\n",
    "        \n",
    "    def _log_forward(self, input=None):  \n",
    "        \"\"\"Forward pass of the computation graph in logarithm domain (pytorch)\"\"\"\n",
    "        \n",
    "        # IMPORTANT: Cast to pytorch format\n",
    "        input = Variable(torch.from_numpy(input).float(), requires_grad=False)\n",
    "        \n",
    "        # Linear transformation\n",
    "        z =  torch.matmul(input, torch.t(self.weight)) + self.bias\n",
    "        \n",
    "        # Softmax implemented in log domain\n",
    "        log_tilde_z = self.logsoftmax(z)\n",
    "        \n",
    "        # NOTE that this is a pytorch class!\n",
    "        return log_tilde_z\n",
    "            \n",
    "    def predict(self, input=None):\n",
    "        \"\"\"Most probably class index\"\"\"\n",
    "        log_forward = self._log_forward(input).data.numpy()\n",
    "        return np.argmax(np.exp(log_forward), axis=1)\n",
    "        \n",
    "    def update(self, input=None, output=None):\n",
    "        \"\"\"Stochastic Gradient Descent update\"\"\"\n",
    "        \n",
    "        # IMPORTANT: Class indices need to be casted to LONG\n",
    "        true_class = Variable(torch.from_numpy(output).long(), requires_grad=False)\n",
    "        \n",
    "        # Compute negative log-likelihood loss\n",
    "        loss = self.loss(self._log_forward(input), true_class)\n",
    "        # Use autograd to compute the backward pass.\n",
    "        loss.backward()\n",
    "        \n",
    "        # SGD update\n",
    "        self.weight.data -= self.learning_rate * self.weight.grad.data\n",
    "        self.bias.data -= self.learning_rate * self.bias.grad.data\n",
    "        \n",
    "        # Zero gradients\n",
    "        self.weight.grad.data.zero_()\n",
    "        self.bias.grad.data.zero_()\n",
    "        \n",
    "        \n",
    "        return loss.data.numpy()"
   ]
  },
  {
   "cell_type": "markdown",
   "metadata": {},
   "source": [
    "Once you understand the model you can instantiate it and run it using the standard training loop we have used on previous exercises."
   ]
  },
  {
   "cell_type": "code",
   "execution_count": 16,
   "metadata": {},
   "outputs": [
    {
     "data": {
      "text/plain": [
       "tensor(1.00000e-02 *\n",
       "       [[-5.1106,  2.0230, -1.0317,  ..., -4.8644,  2.1598, -3.1773],\n",
       "        [ 1.8640, -2.7083,  7.6013,  ...,  2.5429, -2.7400,  3.5373]], device='cuda:0')"
      ]
     },
     "execution_count": 16,
     "metadata": {},
     "output_type": "execute_result"
    }
   ],
   "source": [
    "model = PytorchLogLinear(\n",
    "    input_size=corpus.nr_features,\n",
    "    num_classes=2, \n",
    "    learning_rate=0.05\n",
    ")\n",
    "model.weight.cuda()"
   ]
  },
  {
   "cell_type": "code",
   "execution_count": 65,
   "metadata": {},
   "outputs": [
    {
     "ename": "AttributeError",
     "evalue": "module 'torch.nn' has no attribute 'cuda'",
     "output_type": "error",
     "traceback": [
      "\u001b[0;31m---------------------------------------------------------------------------\u001b[0m",
      "\u001b[0;31mAttributeError\u001b[0m                            Traceback (most recent call last)",
      "\u001b[0;32m<ipython-input-65-f7f3b6f1e057>\u001b[0m in \u001b[0;36m<module>\u001b[0;34m()\u001b[0m\n\u001b[1;32m     15\u001b[0m     \u001b[0;31m# Batch loop\u001b[0m\u001b[0;34m\u001b[0m\u001b[0;34m\u001b[0m\u001b[0m\n\u001b[1;32m     16\u001b[0m     \u001b[0;32mfor\u001b[0m \u001b[0mbatch\u001b[0m \u001b[0;32min\u001b[0m \u001b[0mtrain_batches\u001b[0m\u001b[0;34m:\u001b[0m\u001b[0;34m\u001b[0m\u001b[0m\n\u001b[0;32m---> 17\u001b[0;31m         \u001b[0mmodel\u001b[0m\u001b[0;34m.\u001b[0m\u001b[0mupdate\u001b[0m\u001b[0;34m(\u001b[0m\u001b[0minput\u001b[0m\u001b[0;34m=\u001b[0m\u001b[0mbatch\u001b[0m\u001b[0;34m[\u001b[0m\u001b[0;34m'input'\u001b[0m\u001b[0;34m]\u001b[0m\u001b[0;34m,\u001b[0m \u001b[0moutput\u001b[0m\u001b[0;34m=\u001b[0m\u001b[0mbatch\u001b[0m\u001b[0;34m[\u001b[0m\u001b[0;34m'output'\u001b[0m\u001b[0;34m]\u001b[0m\u001b[0;34m)\u001b[0m\u001b[0;34m\u001b[0m\u001b[0m\n\u001b[0m\u001b[1;32m     18\u001b[0m \u001b[0;34m\u001b[0m\u001b[0m\n\u001b[1;32m     19\u001b[0m     \u001b[0;31m# Prediction for this epoch\u001b[0m\u001b[0;34m\u001b[0m\u001b[0;34m\u001b[0m\u001b[0m\n",
      "\u001b[0;32m<ipython-input-57-a16e00e3fee7>\u001b[0m in \u001b[0;36mupdate\u001b[0;34m(self, input, output)\u001b[0m\n\u001b[1;32m     62\u001b[0m         \u001b[0mself\u001b[0m\u001b[0;34m.\u001b[0m\u001b[0mbias\u001b[0m\u001b[0;34m.\u001b[0m\u001b[0mgrad\u001b[0m\u001b[0;34m.\u001b[0m\u001b[0mdata\u001b[0m\u001b[0;34m.\u001b[0m\u001b[0mzero_\u001b[0m\u001b[0;34m(\u001b[0m\u001b[0;34m)\u001b[0m\u001b[0;34m\u001b[0m\u001b[0m\n\u001b[1;32m     63\u001b[0m \u001b[0;34m\u001b[0m\u001b[0m\n\u001b[0;32m---> 64\u001b[0;31m         \u001b[0mtorch\u001b[0m\u001b[0;34m.\u001b[0m\u001b[0mnn\u001b[0m\u001b[0;34m.\u001b[0m\u001b[0mcuda\u001b[0m\u001b[0;34m(\u001b[0m\u001b[0;34m\"cuda\"\u001b[0m\u001b[0;34m)\u001b[0m\u001b[0;34m\u001b[0m\u001b[0m\n\u001b[0m\u001b[1;32m     65\u001b[0m \u001b[0;34m\u001b[0m\u001b[0m\n\u001b[1;32m     66\u001b[0m         \u001b[0;32mreturn\u001b[0m \u001b[0mloss\u001b[0m\u001b[0;34m.\u001b[0m\u001b[0mdata\u001b[0m\u001b[0;34m.\u001b[0m\u001b[0mnumpy\u001b[0m\u001b[0;34m(\u001b[0m\u001b[0;34m)\u001b[0m\u001b[0;34m\u001b[0m\u001b[0m\n",
      "\u001b[0;31mAttributeError\u001b[0m: module 'torch.nn' has no attribute 'cuda'"
     ]
    }
   ],
   "source": [
    "import time\n",
    "# Hyper-parameters\n",
    "num_epochs = 10\n",
    "batch_size = 30\n",
    "\n",
    "# Get batch iterators for train and test\n",
    "train_batches = data.batches('train', batch_size=batch_size)\n",
    "test_set = data.batches('test', batch_size=None)[0]\n",
    "\n",
    "start = time.time()\n",
    "\n",
    "# Epoch loop\n",
    "for epoch in range(num_epochs):\n",
    "\n",
    "    # Batch loop\n",
    "    for batch in train_batches:\n",
    "        model.update(input=batch['input'], output=batch['output'])\n",
    "\n",
    "    # Prediction for this epoch\n",
    "    hat_y = model.predict(input=test_set['input'])\n",
    "\n",
    "    # Evaluation\n",
    "    accuracy = 100*np.mean(hat_y == test_set['output'])\n",
    "\n",
    "    # Inform user\n",
    "    print(\"Epoch %d: accuracy %2.2f %%\" % (epoch+1, accuracy))\n",
    "\n",
    "print(\"\\n \" + str(time.time() - start) + \" seconds\")"
   ]
  },
  {
   "cell_type": "code",
   "execution_count": null,
   "metadata": {},
   "outputs": [],
   "source": []
  },
  {
   "cell_type": "code",
   "execution_count": null,
   "metadata": {},
   "outputs": [],
   "source": []
  }
 ],
 "metadata": {
  "kernelspec": {
   "display_name": "Python 3",
   "language": "python",
   "name": "python3"
  },
  "language_info": {
   "codemirror_mode": {
    "name": "ipython",
    "version": 3
   },
   "file_extension": ".py",
   "mimetype": "text/x-python",
   "name": "python",
   "nbconvert_exporter": "python",
   "pygments_lexer": "ipython3",
   "version": "3.6.5"
  }
 },
 "nbformat": 4,
 "nbformat_minor": 2
}
